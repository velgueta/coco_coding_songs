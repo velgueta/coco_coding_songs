{
 "cells": [
  {
   "cell_type": "markdown",
   "id": "74454801-4041-4a52-aefa-7978eb1c2d76",
   "metadata": {},
   "source": [
    "Homework 2"
   ]
  },
  {
   "cell_type": "code",
   "execution_count": 1,
   "id": "56427649-138d-4fd2-a0c8-2829cffe3d00",
   "metadata": {},
   "outputs": [],
   "source": [
    "#Gaussian Function\n",
    "import numpy as np\n",
    "import math\n",
    "import matplotlib.pyplot as plt"
   ]
  },
  {
   "cell_type": "code",
   "execution_count": 40,
   "id": "8265f38f-aef6-497f-85be-d8ba3d8b2aec",
   "metadata": {},
   "outputs": [
    {
     "data": {
      "image/png": "[encoded data removed]",
      "text/plain": [
       "<Figure size 432x288 with 1 Axes>"
      ]
     },
     "metadata": {
      "needs_background": "light"
     },
     "output_type": "display_data"
    }
   ],
   "source": [
    "#we need define\n",
    "sigma=[0.5, 1.0 ,1.5]\n",
    "sigma=np.array(sigma)\n",
    "gg = []\n",
    "for x in range(-50,50):\n",
    "    g=math.exp(-0.5*(x/sigma[0])**2)/(0.5*sigma[0]*math.sqrt(2*np.pi))\n",
    "    gg.append(g)\n",
    "plt.plot(range(-50,50),gg,'g-',label='$\\sigma=0$')\n",
    "plt.legend()\n",
    "plt.xlabel('x')\n",
    "plt.ylabel('g(x)')\n",
    "plt.grid()\n",
    "\n",
    "ggg = []\n",
    "for x in range(-50,50):\n",
    "    g1=math.exp(-0.5*(x/sigma[1])**2)/(0.5*sigma[1]*math.sqrt(2*np.pi))\n",
    "    ggg.append(g1)\n",
    "plt.plot(range(-50,50),ggg,'b-',label='$\\sigma=1$')\n",
    "plt.legend()\n",
    "plt.xlabel('x')\n",
    "plt.ylabel('g(x)')\n",
    "plt.grid()\n",
    "\n",
    "gggg = []\n",
    "\n",
    "for x in range(-50,50):\n",
    "    g2=math.exp(-0.5*(x/sigma[2])**2)/(0.5*sigma[2]*math.sqrt(2*np.pi))\n",
    "    gggg.append(g2)\n",
    "plt.plot(range(-50,50),gggg,'r-',label='$\\sigma=2$')\n",
    "plt.legend()\n",
    "plt.title('Función Gaussiana')\n",
    "plt.xlabel('x')\n",
    "plt.ylabel('g(x)')\n",
    "plt.grid()"
   ]
  },
  {
   "cell_type": "markdown",
   "id": "20068e7e-e20b-4cb2-8c74-9a12cd776554",
   "metadata": {},
   "source": [
    "El archivo data/temperature-central-park.dat contiene temperaturas medias en Central Park, New York durante los días de Enero de 2021. Los valores de temperatura vienen dados en Fahrenheit.\n",
    "\n",
    "Lea el archivo de datos usando numpy.loadtxt.\n",
    "Convierta los valores de temperaturas de Fahrenheit a Celsius. Ya que no vamos a usar los valores en Fahrenheit, pueden reemplazar el array donde los guardan.\n",
    "Grafique los valores de temperatura utilizando el tipo de gráfico que creas más adecuado.\n",
    "Verifique seguir las mejores prácticas para generar gráficos (ejes anotados, unidades, leyenda, título, etc).\n",
    "Guarde la gráfica en un archivo."
   ]
  },
  {
   "cell_type": "code",
   "execution_count": 27,
   "id": "9a92def4-f7c7-4baf-9866-42d48c1da2f9",
   "metadata": {},
   "outputs": [],
   "source": [
    "from pathlib import Path"
   ]
  },
  {
   "cell_type": "code",
   "execution_count": 31,
   "id": "6abbee38-ab0c-466a-87ac-a0aae5662aa1",
   "metadata": {},
   "outputs": [
    {
     "data": {
      "text/plain": [
       "PosixPath('temperature-central-park.dat')"
      ]
     },
     "execution_count": 31,
     "metadata": {},
     "output_type": "execute_result"
    }
   ],
   "source": [
    "temperaturecentralpark = Path(\".\")/\"temperature-central-park.dat\"\n",
    "temperaturecentralpark\n",
    "\n"
   ]
  },
  {
   "cell_type": "code",
   "execution_count": 32,
   "id": "315eaae3-6ac4-4846-a8c0-de109bbfe5ea",
   "metadata": {},
   "outputs": [],
   "source": [
    "df = np.loadtxt(temperaturecentralpark)"
   ]
  },
  {
   "cell_type": "code",
   "execution_count": 33,
   "id": "025c2082-d9d1-420d-a1a7-1d82a25c19a6",
   "metadata": {},
   "outputs": [
    {
     "data": {
      "text/plain": [
       "array([[ 1. , 36.5],\n",
       "       [ 2. , 43.5],\n",
       "       [ 3. , 36. ],\n",
       "       [ 4. , 39. ],\n",
       "       [ 5. , 39. ],\n",
       "       [ 6. , 37.5],\n",
       "       [ 7. , 35.5],\n",
       "       [ 8. , 32. ],\n",
       "       [ 9. , 30.5],\n",
       "       [10. , 35. ],\n",
       "       [11. , 32.5],\n",
       "       [12. , 38.5],\n",
       "       [13. , 39. ],\n",
       "       [14. , 44. ],\n",
       "       [15. , 42. ],\n",
       "       [16. , 42. ],\n",
       "       [17. , 39.5],\n",
       "       [18. , 41. ],\n",
       "       [19. , 39. ],\n",
       "       [20. , 33.5],\n",
       "       [21. , 34. ],\n",
       "       [22. , 40.5],\n",
       "       [23. , 30. ],\n",
       "       [24. , 27. ],\n",
       "       [25. , 30. ],\n",
       "       [26. , 32.5],\n",
       "       [27. , 34. ],\n",
       "       [28. , 27. ],\n",
       "       [29. , 19.5],\n",
       "       [30. , 24.5],\n",
       "       [31. , 23. ]])"
      ]
     },
     "execution_count": 33,
     "metadata": {},
     "output_type": "execute_result"
    }
   ],
   "source": [
    "df"
   ]
  },
  {
   "cell_type": "code",
   "execution_count": 37,
   "id": "e3ba0a43-547a-4b0a-bab3-3435a72e1b14",
   "metadata": {},
   "outputs": [],
   "source": [
    "dias=df[:,0]\n",
    "tempfara=df[:,1]\n",
    "Celsius=(tempfara-32)*(5/9)"
   ]
  },
  {
   "cell_type": "code",
   "execution_count": 43,
   "id": "4863a4bb-0d35-4f13-9fa0-f657706bea2e",
   "metadata": {},
   "outputs": [
    {
     "data": {
      "image/png": "[encoded data removed]",
      "text/plain": [
       "<Figure size 432x288 with 1 Axes>"
      ]
     },
     "metadata": {
      "needs_background": "light"
     },
     "output_type": "display_data"
    }
   ],
   "source": [
    "plt.plot(dias,Celsius,'mo',label='Temperatura en grados Celsius')\n",
    "plt.legend()\n",
    "plt.xlabel('días')\n",
    "plt.ylabel('Temperatura en grados Celsius')\n",
    "plt.title('Temperaturas de New York en Enero')\n",
    "plt.grid()\n",
    "plt.savefig(\"Newyorktemperatures.png\")\n"
   ]
  },
  {
   "cell_type": "code",
   "execution_count": null,
   "id": "6417373d-25e3-44e1-91b6-7ee80f564339",
   "metadata": {},
   "outputs": [],
   "source": []
  }
 ],
 "metadata": {
  "kernelspec": {
   "display_name": "CoCo",
   "language": "python",
   "name": "coco"
  },
  "language_info": {
   "codemirror_mode": {
    "name": "ipython",
    "version": 3
   },
   "file_extension": ".py",
   "mimetype": "text/x-python",
   "name": "python",
   "nbconvert_exporter": "python",
   "pygments_lexer": "ipython3",
   "version": "3.10.4"
  }
 },
 "nbformat": 4,
 "nbformat_minor": 5
}
