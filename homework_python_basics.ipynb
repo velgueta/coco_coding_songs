{
 "cells": [
  {
   "cell_type": "markdown",
   "id": "4a5927e1-f704-4f25-afa7-c83edb36ec37",
   "metadata": {},
   "source": [
    "Task #1"
   ]
  },
  {
   "cell_type": "raw",
   "id": "3fc364bc-f12f-4cfb-83bd-70f9a0738f1f",
   "metadata": {},
   "source": [
    "Crea una lista con los nombres de todos los planetas del sistema solar (en orden)\n",
    "Haz que Python te diga cuántos planetas hay examinando tu lista\n",
    "Muestre los primeros cuatro planetas del sistema solar (los planetas rocosos)\n",
    "Imprimir el nombre del planeta que tiene una s al final de su nombre"
   ]
  },
  {
   "cell_type": "code",
   "execution_count": 3,
   "id": "eb299090-292a-49f2-98cd-b4a94223e4b0",
   "metadata": {},
   "outputs": [
    {
     "data": {
      "text/plain": [
       "8"
      ]
     },
     "execution_count": 3,
     "metadata": {},
     "output_type": "execute_result"
    }
   ],
   "source": [
    "ss=['Mercurio','Venus','Tierra','Marte','Jupiter','Saturno','Urano','Neptuno']\n",
    "len(ss)"
   ]
  },
  {
   "cell_type": "code",
   "execution_count": 7,
   "id": "695fa4c3-887b-4ea9-af83-ac726a3cf2d2",
   "metadata": {},
   "outputs": [
    {
     "name": "stdout",
     "output_type": "stream",
     "text": [
      "['Mercurio', 'Venus', 'Tierra', 'Marte']\n"
     ]
    }
   ],
   "source": [
    "ss4=ss[0:4]\n",
    "print(ss4)"
   ]
  },
  {
   "cell_type": "code",
   "execution_count": 9,
   "id": "7c54b1c3-359b-45fb-a481-44ab28118e76",
   "metadata": {},
   "outputs": [
    {
     "name": "stdout",
     "output_type": "stream",
     "text": [
      "Venus\n"
     ]
    }
   ],
   "source": [
    "print(ss[1])"
   ]
  },
  {
   "cell_type": "markdown",
   "id": "a8368c1c-fd01-488f-9d13-3bd869199eb9",
   "metadata": {},
   "source": [
    "2° Task"
   ]
  },
  {
   "cell_type": "raw",
   "id": "c21b5045-7c4a-4aeb-a505-ca54489e15d7",
   "metadata": {},
   "source": [
    "Asignar el dato recibido a una variable.\n",
    "Aplicar la transformación de unidades usando esta variable.\n",
    "Guardar el dato en Celsius en otra variable.\n",
    "Utilizar la función print para mostrar ambos resultados."
   ]
  },
  {
   "cell_type": "code",
   "execution_count": 17,
   "id": "3c239f01-bbb1-4476-a293-8b3891e370d5",
   "metadata": {},
   "outputs": [
    {
     "name": "stdout",
     "output_type": "stream",
     "text": [
      "30.3\n",
      "-0.9444444444444441\n"
     ]
    }
   ],
   "source": [
    "temp_f=30.3\n",
    "(5/9)*(temp_f-32)\n",
    "temp_c=(5/9)*(temp_f-32)\n",
    "print(temp_f)\n",
    "print(temp_c)"
   ]
  },
  {
   "cell_type": "markdown",
   "id": "192fed9b-18f4-4fca-a637-99a60e0862c5",
   "metadata": {},
   "source": [
    "3° Task"
   ]
  },
  {
   "cell_type": "raw",
   "id": "8f1dd241-9d0d-47cb-9be8-866f22f919a7",
   "metadata": {},
   "source": [
    "array ([1, 2, 3, 4, 5, 6, 7, 8, 9, 10, 11, 12, 13, 14, 15, 16])"
   ]
  },
  {
   "cell_type": "code",
   "execution_count": 20,
   "id": "a9aa7227-ce68-4da4-9025-13542215c4c8",
   "metadata": {},
   "outputs": [
    {
     "name": "stdout",
     "output_type": "stream",
     "text": [
      "[1, 2, 3, 4, 5, 6, 7, 8, 9, 10, 11, 12, 13, 14, 15, 16]\n"
     ]
    }
   ],
   "source": [
    "array=([1, 2, 3, 4, 5, 6, 7, 8, 9, 10, 11, 12, 13, 14, 15, 16])\n",
    "#1row 16 columns\n",
    "print(array)"
   ]
  },
  {
   "cell_type": "code",
   "execution_count": 23,
   "id": "0ad2b890-8ffd-4322-9d7f-fab8011b6f73",
   "metadata": {},
   "outputs": [
    {
     "name": "stdout",
     "output_type": "stream",
     "text": [
      "[[ 1  2  3  4]\n",
      " [ 5  6  7  8]\n",
      " [ 9 10 11 12]\n",
      " [13 14 15 16]]\n"
     ]
    }
   ],
   "source": [
    "import numpy as np\n",
    "fourxfour=np.reshape(array,(4,4))\n",
    "print(fourxfour)"
   ]
  },
  {
   "cell_type": "markdown",
   "id": "459810d5-7a8e-49b2-9b37-b612e21f9029",
   "metadata": {},
   "source": [
    "4° Task"
   ]
  },
  {
   "cell_type": "raw",
   "id": "9ac2d8a6-a916-441a-98f7-68f3ecd2ad06",
   "metadata": {},
   "source": [
    "Calcule el seno y el coseno de los ángulos: 0, 30, 45, 60 y 90 dados en grados:"
   ]
  },
  {
   "cell_type": "code",
   "execution_count": 34,
   "id": "24b6fc8a-5612-4c63-bd48-e28049e147cc",
   "metadata": {},
   "outputs": [
    {
     "data": {
      "text/plain": [
       "array([1.00000000e+00, 8.66025404e-01, 7.07106781e-01, 5.00000000e-01,\n",
       "       6.12323400e-17])"
      ]
     },
     "execution_count": 34,
     "metadata": {},
     "output_type": "execute_result"
    }
   ],
   "source": [
    "angulos=np.array([0,30,45,60,90])\n",
    "radianes=angulos*(np.pi/180)\n",
    "senoradines=np.sin(radianes)\n",
    "cosradines=np.cos(radianes)\n",
    "cosradines\n"
   ]
  },
  {
   "cell_type": "markdown",
   "id": "23b3b3ec-60fc-4f13-b87a-896788b0c734",
   "metadata": {},
   "source": [
    "5° Task"
   ]
  },
  {
   "cell_type": "raw",
   "id": "95c1eabc-6e64-4aac-b305-763100c8d5cb",
   "metadata": {},
   "source": [
    "\n",
    "Finite differences | Diferencias finitas"
   ]
  },
  {
   "cell_type": "code",
   "execution_count": null,
   "id": "e580cfa2-7f52-4960-8c71-571679483fb7",
   "metadata": {},
   "outputs": [],
   "source": []
  }
 ],
 "metadata": {
  "kernelspec": {
   "display_name": "CoCo",
   "language": "python",
   "name": "coco"
  },
  "language_info": {
   "codemirror_mode": {
    "name": "ipython",
    "version": 3
   },
   "file_extension": ".py",
   "mimetype": "text/x-python",
   "name": "python",
   "nbconvert_exporter": "python",
   "pygments_lexer": "ipython3",
   "version": "3.10.4"
  }
 },
 "nbformat": 4,
 "nbformat_minor": 5
}
